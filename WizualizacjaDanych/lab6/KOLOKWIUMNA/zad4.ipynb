{
 "cells": [
  {
   "cell_type": "code",
   "execution_count": 7,
   "id": "c70adb60-cb31-49c8-aeb6-cde1010addb9",
   "metadata": {},
   "outputs": [],
   "source": []
  },
  {
   "cell_type": "code",
   "execution_count": 16,
   "id": "938188e5-9a62-4319-9a86-1d429a4c4691",
   "metadata": {},
   "outputs": [
    {
     "data": {
      "image/png": "[encoded data removed]",
      "text/plain": [
       "<Figure size 432x288 with 1 Axes>"
      ]
     },
     "metadata": {
      "needs_background": "light"
     },
     "output_type": "display_data"
    }
   ],
   "source": [
    "import matplotlib.pyplot as plt\n",
    "import seaborn as sns\n",
    "import pandas as pd\n",
    "from typing import Dict\n",
    "\n",
    "data: pd.DataFrame = pd.read_csv('dane.csv', sep='^')\n",
    "    \n",
    "data = data.select_dtypes(include=['number'])\n",
    "\n",
    "def get_column_name(df: pd.DataFrame, mean: float, std: float) ->str:\n",
    "     for i in df.columns:\n",
    "        if round(df[str(i)].mean(), 6) == mean and round(df[str(i)].std(), 6) :\n",
    "            return str(i)\n",
    "\n",
    "col_rename: Dict[str,str] ={\n",
    "    get_column_name(data, 2.308642, 10):'class',\n",
    "    get_column_name(data, 0.383838, 10):'survived',\n",
    "    get_column_name(data, 446.000000, 10):'passengerId',\n",
    "    get_column_name(data, 29.699118, 10):'age',\n",
    "    get_column_name(data, 32.204208, 10):'cost'}\n",
    "    \n",
    "data = data.rename(columns = col_rename)\n",
    "\n",
    "ax = sns.countplot(x='survived', hue='class', data=data) \n",
    "ax.set(xlabel='Przyżyli', ylabel='Liczba Osob', title='Wykres słupkowy')\n",
    "plt.show()"
   ]
  },
  {
   "cell_type": "code",
   "execution_count": null,
   "id": "bd711575-f5d4-4ce1-ae6e-9e26c1741186",
   "metadata": {},
   "outputs": [],
   "source": []
  }
 ],
 "metadata": {
  "kernelspec": {
   "display_name": "Python 3",
   "language": "python",
   "name": "python3"
  },
  "language_info": {
   "codemirror_mode": {
    "name": "ipython",
    "version": 3
   },
   "file_extension": ".py",
   "mimetype": "text/x-python",
   "name": "python",
   "nbconvert_exporter": "python",
   "pygments_lexer": "ipython3",
   "version": "3.9.2"
  }
 },
 "nbformat": 4,
 "nbformat_minor": 5
}
