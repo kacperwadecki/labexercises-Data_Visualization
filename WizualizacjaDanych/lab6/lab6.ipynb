{
 "cells": [
  {
   "cell_type": "code",
   "execution_count": 4,
   "id": "1b9c8074-0479-45cd-8174-2192c3136c8e",
   "metadata": {},
   "outputs": [],
   "source": [
    "import numpy as np"
   ]
  },
  {
   "cell_type": "code",
   "execution_count": 5,
   "id": "cbf73390-4567-41fe-817a-2f50ac9b43da",
   "metadata": {},
   "outputs": [
    {
     "data": {
      "text/plain": [
       "array([[5., 5., 5., 5., 5.],\n",
       "       [5., 5., 5., 5., 5.],\n",
       "       [5., 5., 5., 5., 5.],\n",
       "       [5., 5., 5., 5., 5.],\n",
       "       [5., 5., 5., 5., 5.]])"
      ]
     },
     "execution_count": 5,
     "metadata": {},
     "output_type": "execute_result"
    }
   ],
   "source": [
    "array: np.ndarray = np.ones((5,5))\n",
    "array = array * 5\n",
    "array"
   ]
  },
  {
   "cell_type": "code",
   "execution_count": 9,
   "id": "fe57091e-9c91-4128-9fbe-7ed35dcdc150",
   "metadata": {},
   "outputs": [
    {
     "data": {
      "text/plain": [
       "array([[ 1,  2,  3,  4,  5],\n",
       "       [ 6,  7,  8,  9, 10],\n",
       "       [11, 12, 13, 14, 15],\n",
       "       [16, 17, 18, 19, 20],\n",
       "       [21, 22, 23, 24, 25]])"
      ]
     },
     "execution_count": 9,
     "metadata": {},
     "output_type": "execute_result"
    }
   ],
   "source": [
    "array: np.ndarray = np.arange(1,26)\n",
    "array.reshape((5,5))"
   ]
  },
  {
   "cell_type": "code",
   "execution_count": 11,
   "id": "dd1b54f3-5021-4f31-9a95-d366581ff5f6",
   "metadata": {},
   "outputs": [
    {
     "data": {
      "text/plain": [
       "array([10., 12., 14., 16., 18., 20., 22., 24., 26., 28., 30., 32., 34.,\n",
       "       36., 38., 40., 42., 44., 46., 48., 50.])"
      ]
     },
     "execution_count": 11,
     "metadata": {},
     "output_type": "execute_result"
    }
   ],
   "source": [
    "np.linspace(10,50,21)"
   ]
  },
  {
   "cell_type": "code",
   "execution_count": 13,
   "id": "f9243520-c34d-470f-809a-8edc8031b153",
   "metadata": {},
   "outputs": [
    {
     "data": {
      "text/plain": [
       "array([[8., 0., 0., 0., 0.],\n",
       "       [0., 8., 0., 0., 0.],\n",
       "       [0., 0., 8., 0., 0.],\n",
       "       [0., 0., 0., 8., 0.],\n",
       "       [0., 0., 0., 0., 8.]])"
      ]
     },
     "execution_count": 13,
     "metadata": {},
     "output_type": "execute_result"
    }
   ],
   "source": [
    "np.eye(5)*8"
   ]
  },
  {
   "cell_type": "code",
   "execution_count": 21,
   "id": "118a5300-1c1e-4897-a291-b8f7efe9f77c",
   "metadata": {},
   "outputs": [
    {
     "data": {
      "text/plain": [
       "array([[1.  , 1.01, 1.02, 1.03, 1.04, 1.05, 1.06, 1.07, 1.08, 1.09],\n",
       "       [1.1 , 1.11, 1.12, 1.13, 1.14, 1.15, 1.16, 1.17, 1.18, 1.19],\n",
       "       [1.2 , 1.21, 1.22, 1.23, 1.24, 1.25, 1.26, 1.27, 1.28, 1.29],\n",
       "       [1.3 , 1.31, 1.32, 1.33, 1.34, 1.35, 1.36, 1.37, 1.38, 1.39],\n",
       "       [1.4 , 1.41, 1.42, 1.43, 1.44, 1.45, 1.46, 1.47, 1.48, 1.49],\n",
       "       [1.5 , 1.51, 1.52, 1.53, 1.54, 1.55, 1.56, 1.57, 1.58, 1.59],\n",
       "       [1.6 , 1.61, 1.62, 1.63, 1.64, 1.65, 1.66, 1.67, 1.68, 1.69],\n",
       "       [1.7 , 1.71, 1.72, 1.73, 1.74, 1.75, 1.76, 1.77, 1.78, 1.79],\n",
       "       [1.8 , 1.81, 1.82, 1.83, 1.84, 1.85, 1.86, 1.87, 1.88, 1.89],\n",
       "       [1.9 , 1.91, 1.92, 1.93, 1.94, 1.95, 1.96, 1.97, 1.98, 1.99]])"
      ]
     },
     "execution_count": 21,
     "metadata": {},
     "output_type": "execute_result"
    }
   ],
   "source": [
    "array: np.ndarray = np.arange(1,2,0.01)\n",
    "array.reshape(10,10)"
   ]
  },
  {
   "cell_type": "code",
   "execution_count": 26,
   "id": "6e089d6c-99ab-481c-979a-c3af2f157d7d",
   "metadata": {},
   "outputs": [
    {
     "data": {
      "text/plain": [
       "array([0.        , 0.02081633, 0.04163265, 0.06244898, 0.08326531,\n",
       "       0.10408163, 0.12489796, 0.14571429, 0.16653061, 0.18734694,\n",
       "       0.20816327, 0.22897959, 0.24979592, 0.27061224, 0.29142857,\n",
       "       0.3122449 , 0.33306122, 0.35387755, 0.37469388, 0.3955102 ,\n",
       "       0.41632653, 0.43714286, 0.45795918, 0.47877551, 0.49959184,\n",
       "       0.52040816, 0.54122449, 0.56204082, 0.58285714, 0.60367347,\n",
       "       0.6244898 , 0.64530612, 0.66612245, 0.68693878, 0.7077551 ,\n",
       "       0.72857143, 0.74938776, 0.77020408, 0.79102041, 0.81183673,\n",
       "       0.83265306, 0.85346939, 0.87428571, 0.89510204, 0.91591837,\n",
       "       0.93673469, 0.95755102, 0.97836735, 0.99918367, 1.02      ])"
      ]
     },
     "execution_count": 26,
     "metadata": {},
     "output_type": "execute_result"
    }
   ],
   "source": [
    "np.linspace(0,1,50)"
   ]
  },
  {
   "cell_type": "code",
   "execution_count": 29,
   "id": "301153f0-f513-497b-b699-645b3f9371c1",
   "metadata": {},
   "outputs": [
    {
     "data": {
      "text/plain": [
       "array([12, 13, 14, 15, 16, 17, 18, 19, 20, 21, 22, 23, 24, 25])"
      ]
     },
     "execution_count": 29,
     "metadata": {},
     "output_type": "execute_result"
    }
   ],
   "source": [
    "array: np.ndarray = np.arange(1,26)\n",
    "array.reshape((5,5))\n",
    "\n",
    "array[11:25]"
   ]
  },
  {
   "cell_type": "code",
   "execution_count": 45,
   "id": "f740c6d0-e503-4247-aa1a-cca4bc3981c2",
   "metadata": {},
   "outputs": [
    {
     "data": {
      "text/plain": [
       "array([[21],\n",
       "       [22],\n",
       "       [23]])"
      ]
     },
     "execution_count": 45,
     "metadata": {},
     "output_type": "execute_result"
    }
   ],
   "source": [
    "array: np.ndarray = np.arange(1,26)\n",
    "array2: np.ndarray = array.reshape((5,5))\n",
    "array3: np.ndarray = np.array([[array2[4,0]],[array2[4,1]],[array2[4,2]]])\n",
    "array3"
   ]
  },
  {
   "cell_type": "code",
   "execution_count": 5,
   "id": "52a1cfba-af5f-4012-84ab-8f5f4a091e2d",
   "metadata": {},
   "outputs": [
    {
     "data": {
      "text/plain": [
       "130"
      ]
     },
     "execution_count": 5,
     "metadata": {},
     "output_type": "execute_result"
    }
   ],
   "source": [
    "array: np.ndarray = np.arange(1,26)\n",
    "array2: np.ndarray = array.reshape((5,5))\n",
    "suma: int = 0\n",
    "\n",
    "for i in range(2):\n",
    "    for j in range(5):\n",
    "        suma += array2[i-1,j-1]\n",
    "\n",
    "suma"
   ]
  },
  {
   "cell_type": "code",
   "execution_count": 11,
   "id": "591f51b5-5a2d-4b2a-aa19-e20984f8fbc5",
   "metadata": {},
   "outputs": [
    {
     "data": {
      "text/plain": [
       "array([[ 9, 36, 20],\n",
       "       [45, 28, 34],\n",
       "       [ 3, 17, 33]])"
      ]
     },
     "execution_count": 11,
     "metadata": {},
     "output_type": "execute_result"
    }
   ],
   "source": [
    "np.random.randint(1,50,(np.random.randint(5), np.random.randint(5)))"
   ]
  },
  {
   "cell_type": "code",
   "execution_count": 17,
   "id": "4b6603bf-713c-4ae7-8b1a-2765c77aa1b9",
   "metadata": {},
   "outputs": [
    {
     "data": {
      "text/plain": [
       "array([[2, 5, 2, 3, 1, 2, 2, 4, 4, 1],\n",
       "       [1, 5, 3, 4, 3, 1, 2, 5, 3, 4],\n",
       "       [1, 1, 2, 5, 4, 2, 4, 5, 2, 5],\n",
       "       [4, 3, 3, 3, 5, 1, 1, 5, 5, 2],\n",
       "       [1, 1, 5, 1, 2, 5, 1, 5, 1, 1],\n",
       "       [5, 5, 3, 5, 1, 1, 1, 5, 1, 1],\n",
       "       [4, 1, 1, 5, 1, 4, 1, 2, 5, 3],\n",
       "       [2, 2, 5, 2, 2, 1, 4, 3, 5, 2],\n",
       "       [4, 5, 3, 4, 5, 5, 5, 1, 3, 4],\n",
       "       [5, 4, 5, 2, 1, 3, 2, 1, 4, 1]])"
      ]
     },
     "execution_count": 17,
     "metadata": {},
     "output_type": "execute_result"
    }
   ],
   "source": [
    "array: np.ndarray = np.random.randint(1,6,100)\n",
    "array.reshape(10,10)"
   ]
  },
  {
   "cell_type": "code",
   "execution_count": 18,
   "id": "e4e25ae1-0fed-4b43-a528-d5809ac28635",
   "metadata": {},
   "outputs": [
    {
     "data": {
      "text/plain": [
       "array([5, 0, 5, 7, 9, 1, 2, 8, 8, 4])"
      ]
     },
     "execution_count": 18,
     "metadata": {},
     "output_type": "execute_result"
    }
   ],
   "source": [
    "array: np.ndarray = np.random.randint(1,10,10)\n",
    "array[array.argmin()] = 0 \n",
    "array"
   ]
  },
  {
   "cell_type": "code",
   "execution_count": 28,
   "id": "4c9042ba-4ab9-49c7-9ec0-1b0324df85cd",
   "metadata": {},
   "outputs": [
    {
     "name": "stdout",
     "output_type": "stream",
     "text": [
      "[ 7 13 13 13  9]\n",
      "4\n",
      "7\n"
     ]
    }
   ],
   "source": [
    "array: np.ndarray = np.random.randint(1,15,5)\n",
    "skalar: int = np.random.randint(10)\n",
    "    \n",
    "tmp: int = 0\n",
    "roznica: int = array[0] \n",
    "    \n",
    "print(array)\n",
    "print(skalar)\n",
    "\n",
    "for i in array:\n",
    "    if roznica > np.absolute(i - skalar):\n",
    "        roznica = np.absolute(i - skalar)\n",
    "        tmp = i\n",
    "\n",
    "print(tmp)\n",
    "    "
   ]
  },
  {
   "cell_type": "code",
   "execution_count": 46,
   "id": "3c81928c-eb69-4133-975a-cc55d02cc28d",
   "metadata": {},
   "outputs": [
    {
     "name": "stdout",
     "output_type": "stream",
     "text": [
      "[[5 2 9 6 6 2 6 9]\n",
      " [3 8 5 5 6 1 5 2]\n",
      " [5 4 9 9 1 2 5 5]\n",
      " [3 9 2 7 4 9 9 3]\n",
      " [9 3 1 5 3 6 8 6]]\n",
      "[[5 2 9 6 6 2 6 9]\n",
      " [9 3 1 5 3 6 8 6]\n",
      " [5 4 9 9 1 2 5 5]\n",
      " [3 9 2 7 4 9 9 3]\n",
      " [3 8 5 5 6 1 5 2]]\n"
     ]
    }
   ],
   "source": [
    "array: np.ndarray = np.random.randint(1,10, (5,8))\n",
    "    \n",
    "tmp1: int = np.random.randint(5)\n",
    "tmp2: int = np.random.randint(5)  \n",
    "tmp3: int = 0\n",
    "\n",
    "print(array)\n",
    "\n",
    "while tmp1 == tmp2:\n",
    "    tmp1 = np.random.randint(5)\n",
    "    tmp2 = np.random.randint(5)\n",
    "\n",
    "for i in range(8):\n",
    "    tmp3 = array[tmp1,i]\n",
    "    array[tmp1,i] = array[tmp2,i]\n",
    "    array[tmp2,i] = tmp3\n",
    "\n",
    "print(array)\n",
    "    "
   ]
  },
  {
   "cell_type": "code",
   "execution_count": 102,
   "id": "de9c9798-f6b4-4620-bcd0-7c577fddd92c",
   "metadata": {},
   "outputs": [
    {
     "name": "stdout",
     "output_type": "stream",
     "text": [
      "[[5 3 4 4 3]\n",
      " [4 1 4 5 3]\n",
      " [4 4 5 1 5]\n",
      " [1 3 2 4 2]\n",
      " [3 2 1 4 1]]\n",
      "[[3]\n",
      " [4]\n",
      " [5]\n",
      " [5]\n",
      " [1]\n",
      " [5]\n",
      " [4]\n",
      " [5]\n",
      " [5]\n",
      " [4]\n",
      " [4]\n",
      " [3]\n",
      " [5]\n",
      " [1]\n",
      " [1]\n",
      " [1]\n",
      " [2]\n",
      " [5]\n",
      " [1]\n",
      " [5]\n",
      " [3]\n",
      " [2]\n",
      " [5]\n",
      " [3]\n",
      " [5]\n",
      " [5]\n",
      " [4]\n",
      " [4]\n",
      " [1]\n",
      " [3]\n",
      " [3]\n",
      " [1]\n",
      " [4]\n",
      " [3]\n",
      " [2]\n",
      " [4]\n",
      " [4]\n",
      " [5]\n",
      " [2]\n",
      " [1]\n",
      " [4]\n",
      " [5]\n",
      " [1]\n",
      " [4]\n",
      " [4]\n",
      " [3]\n",
      " [3]\n",
      " [5]\n",
      " [2]\n",
      " [1]]\n"
     ]
    }
   ],
   "source": [
    "arr1: np.ndarray = np.random.randint(1,6,(5,5))\n",
    "arr2: np.ndarray = np.empty((25,1), int)\n",
    "\n",
    "print(arr1)\n",
    "\n",
    "for i in range(5):\n",
    "    for j in range(5):\n",
    "        arr2 = np.append(arr2, np.array([[arr1[i,j]]]), axis=0)\n",
    "\n",
    "print(arr2)"
   ]
  },
  {
   "cell_type": "code",
   "execution_count": null,
   "id": "6fbf2113-0c02-4cc3-8856-d1c2f0a45cdd",
   "metadata": {},
   "outputs": [],
   "source": []
  },
  {
   "cell_type": "code",
   "execution_count": null,
   "id": "1d0720fa-5158-407a-ab9d-f1cc9c36ad75",
   "metadata": {},
   "outputs": [],
   "source": []
  }
 ],
 "metadata": {
  "kernelspec": {
   "display_name": "Python 3",
   "language": "python",
   "name": "python3"
  },
  "language_info": {
   "codemirror_mode": {
    "name": "ipython",
    "version": 3
   },
   "file_extension": ".py",
   "mimetype": "text/x-python",
   "name": "python",
   "nbconvert_exporter": "python",
   "pygments_lexer": "ipython3",
   "version": "3.9.2"
  }
 },
 "nbformat": 4,
 "nbformat_minor": 5
}
