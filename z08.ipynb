{
 "cells": [
  {
   "cell_type": "code",
   "execution_count": null,
   "id": "c175232c-8791-45c9-8d07-81a6273df50c",
   "metadata": {},
   "outputs": [],
   "source": [
    "import pandas as pd\n",
    "import numpy as np\n",
    "from typing import Dict\n",
    "import matplotlib.pyplot as plt\n"
   ]
  },
  {
   "cell_type": "code",
   "execution_count": null,
   "id": "b117e243-bdf1-4223-a05e-91925ebec24f",
   "metadata": {},
   "outputs": [],
   "source": [
    "date: pd.DataFrame = pd.read_csv('dane.csv', sep='^')\n",
    "    \n",
    "date = date.select_dtypes(include=['int','float'])\n",
    "\n",
    "def get_column_name(df: pd.DataFrame, mean: float, std: float) ->str:\n",
    "     for i in df.columns:\n",
    "        if round(df[str(i)].mean(), 6) == mean:\n",
    "            return str(i)\n",
    "\n",
    "col_rename: Dict[str,str] ={\n",
    "    get_column_name(date, 691.014541, 10):'X',\n",
    "    get_column_name(date, 631.276313, 10):'Y',\n",
    "    get_column_name(date, 6494.488491, 10):'Z',\n",
    "    get_column_name(date, 2002.447609, 10):'year',\n",
    "    get_column_name(date, 6.437429, 10):'score',\n",
    "    'P': 'scheme'\n",
    "}\n",
    "    \n",
    "date = date.rename(columns = col_rename)\n",
    "\n",
    "fig: plt.Figure = plt.figure(figsize=(10, 7))  \n",
    "ax: plt.Axes = fig.gca(projection='3d') \n",
    "    \n",
    "x: np.ndarray = []\n",
    "y: np.ndarray = []\n",
    "z: np.ndarray = []\n",
    "markers: np.ndarray = []\n",
    "srednia: float = date['score'].mean()\n",
    "    \n",
    "tmp2: pd.DataFrame = date.query('year == 1990')\n",
    "\n",
    "print('asd')"
   ]
  },
  {
   "cell_type": "code",
   "execution_count": null,
   "id": "2e3a0e39-7f19-4523-85b5-ba62cfe17e32",
   "metadata": {},
   "outputs": [],
   "source": []
  }
 ],
 "metadata": {
  "kernelspec": {
   "display_name": "Python 3",
   "language": "python",
   "name": "python3"
  },
  "language_info": {
   "codemirror_mode": {
    "name": "ipython",
    "version": 3
   },
   "file_extension": ".py",
   "mimetype": "text/x-python",
   "name": "python",
   "nbconvert_exporter": "python",
   "pygments_lexer": "ipython3",
   "version": "3.9.2"
  }
 },
 "nbformat": 4,
 "nbformat_minor": 5
}
